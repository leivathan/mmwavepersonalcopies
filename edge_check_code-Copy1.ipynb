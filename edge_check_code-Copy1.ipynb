{
 "cells": [
  {
   "cell_type": "code",
   "execution_count": 2,
   "metadata": {},
   "outputs": [],
   "source": [
    "import datetime\n",
    "import numpy as np\n",
    "import edge_pydb"
   ]
  },
  {
   "cell_type": "code",
   "execution_count": 4,
   "metadata": {},
   "outputs": [
    {
     "name": "stdout",
     "output_type": "stream",
     "text": [
      "['/Users/tonywong/Work/bin/site-packages/edge_pydb']\n"
     ]
    }
   ],
   "source": [
    "print(edge_pydb.__path__)"
   ]
  },
  {
   "cell_type": "code",
   "execution_count": 5,
   "metadata": {},
   "outputs": [
    {
     "data": {
      "text/plain": [
       "['NGC4047.pipe3d.hdf5',\n",
       " 'NGC4047.cocube_smo7.hdf5',\n",
       " 'edge_bbpars_smo7.csv',\n",
       " 'edge_rfpars.csv',\n",
       " 'edge_hiflux.csv',\n",
       " 'edge_jampars.csv',\n",
       " 'edge_bbpars_natv.csv',\n",
       " 'edge_coflux_natv.csv',\n",
       " 'edge_coobs_DE.csv',\n",
       " 'edge_coflux_e20.csv',\n",
       " 'edge_coflux_smo7.csv',\n",
       " 'edge_coobs_E.csv',\n",
       " 'edge_coobs_D.csv',\n",
       " 'edge_wise.csv',\n",
       " 'edge_nsa.csv',\n",
       " 'edge_ned.csv',\n",
       " 'edge_rdist.csv',\n",
       " 'edge_leda.csv',\n",
       " 'edge_califa.csv',\n",
       " 'NGC4047.comom_smo7.hdf5',\n",
       " 'NGC4047_hex.comom_smo7.hdf5',\n",
       " 'rf_CO_natv.csv',\n",
       " 'rf_HA_smo6.csv',\n",
       " 'rf_CO_smo6.csv',\n",
       " 'rf_HA_natv.csv',\n",
       " 'jam_rotcurves.csv',\n",
       " 'rprof_de20_smo.csv',\n",
       " 'rprof_smo7_smo.csv',\n",
       " 'bb_smo7_fixvd_dilmsk_freepa.csv',\n",
       " 'bb_smo7_fixvd_dilmsk.csv',\n",
       " 'bb_natv_fitvd_dilmsk.csv',\n",
       " 'bb_natv_fixvd_dilmsk_freepa.csv',\n",
       " 'bb_smo7_fitvd_dilmsk.csv',\n",
       " 'bb_natv_fixvd_dilmsk.csv',\n",
       " 'bb_natv_fitvd_dilmsk_freepa.csv',\n",
       " 'bb_smo7_fitvd_dilmsk_freepa.csv']"
      ]
     },
     "execution_count": 5,
     "metadata": {},
     "output_type": "execute_result"
    }
   ],
   "source": [
    "edge_pydb.util.listfiles()"
   ]
  },
  {
   "cell_type": "code",
   "execution_count": 6,
   "metadata": {},
   "outputs": [
    {
     "name": "stdout",
     "output_type": "stream",
     "text": [
      "WARNING! No sudo permission, take care, will break\n",
      "Add file cospec_iram.csv\n",
      "Add file edge.cocube_smo7.hdf5\n",
      "Add file edge.comom_smo7.hdf5\n",
      "Add file edge.pipe3d.hdf5\n",
      "Add file edge178_leda.csv\n",
      "Add file edge_allpix.comom_smo7.hdf5\n",
      "Add file edge_allpix.pipe3d.hdf5\n",
      "Add file edge_coflux_iram.csv\n",
      "Add file edge_cospec_e20.csv\n",
      "Add file edge_cospec_natv.csv\n",
      "Add file edge_cospec_smo7.csv\n",
      "Add file edge_hispectra.csv\n",
      "Add file edgealma_hiflux.csv\n",
      "Add file edgealma_hispectra.csv\n",
      "WARNING! The location of this file will be saved runtime only\n"
     ]
    }
   ],
   "source": [
    "edge_pydb.util.add_from_dir('/Volumes/Scratch2/tonywong/EDGE/pybase/', max_depth=0, copy=False)"
   ]
  },
  {
   "cell_type": "code",
   "execution_count": 7,
   "metadata": {},
   "outputs": [
    {
     "data": {
      "text/plain": [
       "['NGC4047.pipe3d.hdf5',\n",
       " 'NGC4047.cocube_smo7.hdf5',\n",
       " 'edge_bbpars_smo7.csv',\n",
       " 'edge_rfpars.csv',\n",
       " 'edge_hiflux.csv',\n",
       " 'edge_jampars.csv',\n",
       " 'edge_bbpars_natv.csv',\n",
       " 'edge_coflux_natv.csv',\n",
       " 'edge_coobs_DE.csv',\n",
       " 'edge_coflux_e20.csv',\n",
       " 'edge_coflux_smo7.csv',\n",
       " 'edge_coobs_E.csv',\n",
       " 'edge_coobs_D.csv',\n",
       " 'edge_wise.csv',\n",
       " 'edge_nsa.csv',\n",
       " 'edge_ned.csv',\n",
       " 'edge_rdist.csv',\n",
       " 'edge_leda.csv',\n",
       " 'edge_califa.csv',\n",
       " 'NGC4047.comom_smo7.hdf5',\n",
       " 'NGC4047_hex.comom_smo7.hdf5',\n",
       " 'rf_CO_natv.csv',\n",
       " 'rf_HA_smo6.csv',\n",
       " 'rf_CO_smo6.csv',\n",
       " 'rf_HA_natv.csv',\n",
       " 'jam_rotcurves.csv',\n",
       " 'rprof_de20_smo.csv',\n",
       " 'rprof_smo7_smo.csv',\n",
       " 'bb_smo7_fixvd_dilmsk_freepa.csv',\n",
       " 'bb_smo7_fixvd_dilmsk.csv',\n",
       " 'bb_natv_fitvd_dilmsk.csv',\n",
       " 'bb_natv_fixvd_dilmsk_freepa.csv',\n",
       " 'bb_smo7_fitvd_dilmsk.csv',\n",
       " 'bb_natv_fixvd_dilmsk.csv',\n",
       " 'bb_natv_fitvd_dilmsk_freepa.csv',\n",
       " 'bb_smo7_fitvd_dilmsk_freepa.csv',\n",
       " 'cospec_iram.csv',\n",
       " 'edge.cocube_smo7.hdf5',\n",
       " 'edge.comom_smo7.hdf5',\n",
       " 'edge.pipe3d.hdf5',\n",
       " 'edge178_leda.csv',\n",
       " 'edge_allpix.comom_smo7.hdf5',\n",
       " 'edge_allpix.pipe3d.hdf5',\n",
       " 'edge_coflux_iram.csv',\n",
       " 'edge_cospec_e20.csv',\n",
       " 'edge_cospec_natv.csv',\n",
       " 'edge_cospec_smo7.csv',\n",
       " 'edge_hispectra.csv',\n",
       " 'edgealma_hiflux.csv',\n",
       " 'edgealma_hispectra.csv']"
      ]
     },
     "execution_count": 7,
     "metadata": {},
     "output_type": "execute_result"
    }
   ],
   "source": [
    "edge_pydb.util.listfiles()"
   ]
  },
  {
   "cell_type": "code",
   "execution_count": null,
   "metadata": {},
   "outputs": [],
   "source": []
  }
 ],
 "metadata": {
  "kernelspec": {
   "display_name": "Python 3",
   "language": "python",
   "name": "python3"
  },
  "language_info": {
   "codemirror_mode": {
    "name": "ipython",
    "version": 3
   },
   "file_extension": ".py",
   "mimetype": "text/x-python",
   "name": "python",
   "nbconvert_exporter": "python",
   "pygments_lexer": "ipython3",
   "version": "3.7.9"
  }
 },
 "nbformat": 4,
 "nbformat_minor": 4
}
